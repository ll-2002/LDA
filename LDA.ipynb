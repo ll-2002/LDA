import numpy as np
import matplotlib.pyplot as plt
from sklearn.datasets import make_blobs

class LDA():
    def Train(self, X, y):
        """XΪѵ�����ݼ���yΪѵ��label"""
        X1 = np.array([X[i] for i in range(len(X)) if y[i] == 0])#array()��������������
        X2 = np.array([X[i] for i in range(len(X)) if y[i] == 1])

        # �����ĵ�
        mju1 = np.mean(X1, axis=0)  # mju1��ndrray����
        mju2 = np.mean(X2, axis=0)#mean()����������ÿһ�еľ�ֵ

        # dot(a, b, out=None) �������˷�
        cov1 = np.dot((X1 - mju1).T, (X1 - mju1))
        cov2 = np.dot((X2 - mju2).T, (X2 - mju2))
        Sw = cov1 + cov2
        # ����w
        w = np.dot(np.mat(Sw).I, (mju1 - mju2).reshape((len(mju1), 1)))
        # ��¼ѵ�����
        self.mju1 = mju1  # ��1��ķ�������
        self.cov1 = cov1
        self.mju2 = mju2  # ��2��ķ�������
        self.cov2 = cov2
        self.Sw = Sw  # ����ɢ�Ⱦ���
        self.w = w  # �б�Ȩ�ؾ���
    def Test(self, X, y):
        """XΪ�������ݼ���yΪ����label"""
        # ������
        y_new = np.dot((X), self.w)
        # ����fisher�����б�ʽ
        nums = len(y)
        c1 = np.dot((self.mju1 - self.mju2).reshape(1, (len(self.mju1))), np.mat(self.Sw).I)
        c2 = np.dot(c1, (self.mju1 + self.mju2).reshape((len(self.mju1), 1)))
        c = 1/2 * c2  # 2�����������
        h = y_new - c
        # �б�
        y_hat = []
        for i in range(nums):
            if h[i] >= 0:
                y_hat.append(0)
            else:
                y_hat.append(1)
        # ������ྫ��
        count = 0
        for i in range(nums):
            if y_hat[i] == y[i]:
                count += 1
        precise = count / nums
        # ��ʾ��Ϣ
        print("������������:", nums)
        print("Ԥ����ȷ����������:", count)
        print("����׼ȷ��:", precise)
        return precise
if '__main__' == __name__:
    # ������������
    n_samples = 500
    X, y = datasets.make_classification(n_samples=n_samples, n_features=2, n_redundant=0, n_classes=2,n_informative=1, n_clusters_per_class=1, class_sep=0.5, random_state=10)
    # LDA�����б����(������)
    lda = LDA()
    # 60% ����ѵ����40%��������
    Xtrain = X[:299, :]
    Ytrain = y[:299]
    Xtest = X[300:, :]
    Ytest = y[300:]
    lda.Train(Xtrain, Ytrain)
    precise = lda.Test(Xtest, Ytest)
    # ԭʼ����
    plt.scatter(X[:, 0], X[:, 1], marker='o', c=y)
    plt.xlabel("x1")
    plt.ylabel("x2")
    plt.title("Test precise:" + str(precise))
    plt.show()



import numpy as np
import matplotlib.pyplot as plt
from sklearn.datasets import make_moons
class LDA():
    def Train(self, X, y):
        """XΪѵ�����ݼ���yΪѵ��label"""
        X1 = np.array([X[i] for i in range(len(X)) if y[i] == 0])
        X2 = np.array([X[i] for i in range(len(X)) if y[i] == 1])
        # �����ĵ�
        mju1 = np.mean(X1, axis=0)  # mju1��ndrray����
        mju2 = np.mean(X2, axis=0)
        # dot(a, b, out=None) �������˷�
        cov1 = np.dot((X1 - mju1).T, (X1 - mju1))
        cov2 = np.dot((X2 - mju2).T, (X2 - mju2))
        Sw = cov1 + cov2
        # ����w
        w = np.dot(np.mat(Sw).I, (mju1 - mju2).reshape((len(mju1), 1)))
        # ��¼ѵ�����
        self.mju1 = mju1  # ��1��ķ�������
        self.cov1 = cov1
        self.mju2 = mju2  # ��1��ķ�������
        self.cov2 = cov2
        self.Sw = Sw  # ����ɢ�Ⱦ���
        self.w = w  # �б�Ȩ�ؾ���
    def Test(self, X, y):
        """XΪ�������ݼ���yΪ����label"""
        # ������
        y_new = np.dot((X), self.w)
        # ����fisher�����б�ʽ
        nums = len(y)
        c1 = np.dot((self.mju1 - self.mju2).reshape(1, (len(self.mju1))), np.mat(self.Sw).I)
        c2 = np.dot(c1, (self.mju1 + self.mju2).reshape((len(self.mju1), 1)))
        c = 1/2 * c2  # 2�����������
        h = y_new - c
        # �б�
        y_hat = []
        for i in range(nums):
            if h[i] >= 0:
                y_hat.append(0)
            else:
                y_hat.append(1)
        # ������ྫ��
        count = 0
        for i in range(nums):
            if y_hat[i] == y[i]:
                count += 1
        precise = count / (nums+0.000001)
        # ��ʾ��Ϣ
        print("������������:", nums)
        print("Ԥ����ȷ����������:", count)
        print("����׼ȷ��:", precise)
        return precise
if '__main__' == __name__:
    # ������������
    X, y = make_moons(n_samples=100, noise=0.15, random_state=42)
    # LDA�����б����(������)
    lda = LDA()
    # 60% ����ѵ����40%��������
    Xtrain = X[:60, :]
    Ytrain = y[:60]
    Xtest = X[40:, :]
    Ytest = y[40:]
    lda.Train(Xtrain, Ytrain)
    precise = lda.Test(Xtest, Ytest)
    # ԭʼ����
    plt.scatter(X[:, 0], X[:, 1], marker='o', c=y)
    plt.xlabel("x1")
    plt.ylabel("x2")
    plt.title("Test precise:" + str(precise))
    plt.show()

